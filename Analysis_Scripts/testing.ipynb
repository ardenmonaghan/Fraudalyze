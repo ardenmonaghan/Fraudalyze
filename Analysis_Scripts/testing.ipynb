{
 "cells": [
  {
   "cell_type": "code",
   "execution_count": null,
   "metadata": {},
   "outputs": [],
   "source": [
    "from sqlalchemy import create_engine, Column, Integer, String, Float, MetaData, Table\n",
    "\n",
    "def sql_to_csv_postgres(connection_string, table_name, csv_file_path):\n",
    "\n",
    "    # Define the connection and engine\n",
    "    engine = create_engine('sqlite:///my_database.db')\n",
    "    metadata = MetaData()\n",
    "\n",
    "    # Define the table schema with a primary key on 'Cust_ID'\n",
    "    ins_l_table = Table('ins_l', metadata,\n",
    "                        Column('Cust_ID', String, primary_key=True),\n",
    "                        Column('Date', String),\n",
    "                        Column('Type', String),\n",
    "                        Column('Reward_R', Integer),\n",
    "                        Column('Reward_A', Integer),\n",
    "                        Column('diff', Integer),\n",
    "                        Column('Cov_Limit', Integer),\n",
    "                        Column('Income', Integer),\n",
    "                        Column('Cov_Income_Ratio', Float),\n",
    "                        Column('fraud_flag', Integer)\n",
    "                        )\n",
    "\n",
    "    # Create the table in the database\n",
    "    metadata.create_all(engine)\n",
    "\n",
    "    # Load your data from CSV into a DataFrame\n",
    "    df = pd.read_csv('ins_l.csv')\n",
    "\n",
    "    # Optionally, drop any unwanted columns (e.g., an auto-generated index column)\n",
    "    if 'ID' in df.columns:\n",
    "        df.drop(columns=['ID'], inplace=True)\n",
    "\n",
    "    # Insert the data into the pre-created table\n",
    "    df.to_sql('ins_l', engine, if_exists='append', index=False)"
   ]
  },
  {
   "cell_type": "code",
   "execution_count": null,
   "metadata": {},
   "outputs": [],
   "source": []
  }
 ],
 "metadata": {
  "language_info": {
   "name": "python"
  }
 },
 "nbformat": 4,
 "nbformat_minor": 2
}
